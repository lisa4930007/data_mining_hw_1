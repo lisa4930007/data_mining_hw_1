{
 "cells": [
  {
   "cell_type": "markdown",
   "metadata": {},
   "source": [
    "### Student Information\n",
    "Name:賴韻婷\n",
    "\n",
    "Student ID:106591506"
   ]
  },
  {
   "cell_type": "markdown",
   "metadata": {},
   "source": [
    "---"
   ]
  },
  {
   "cell_type": "markdown",
   "metadata": {},
   "source": [
    "### Instructions"
   ]
  },
  {
   "cell_type": "markdown",
   "metadata": {},
   "source": [
    "- Download the dataset provided in this [link](https://archive.ics.uci.edu/ml/datasets/Sentiment+Labelled+Sentences#). The sentiment dataset contains a `sentence` and `score` label. Read what the dataset is about on the link provided before you start exploring it. \n",
    "\n",
    "\n",
    "- Then, you are asked to apply each of the data exploration and data operation techniques learned in the [first lab session](https://goo.gl/Sg4FS1) on the new dataset. You don't need to explain all the procedures as we did in the notebook, but you are expected to provide some **minimal comments** explaining your code. You are also expected to use the same libraries used in the first lab session. You are allowed to use and modify the `helper` functions we provided in the first lab session or create your own. Also, be aware that the helper functions may need modification as you are dealing with a completely different dataset. This part is worth 80% of your grade!\n",
    "\n",
    "\n",
    "- After you have completed the operations, you should attempt the **bonus exercises** provided in the [notebook](https://goo.gl/Sg4FS1) we used for the first lab session. There are six (6) additional exercises; attempt them all, as it is part of your grade (10%). \n",
    "\n",
    "\n",
    "- You are also expected to tidy up your notebook and attempt new data operations that you have learned so far in the Data Mining course. Surprise us! This segment is worth 10% of your grade.\n",
    "\n",
    "\n",
    "- After completing all the above tasks, you are free to remove this header block and submit your assignment following the guide provided in the `README.md` file of the assignment's [repository](https://github.com/omarsar/data_mining_hw_1). "
   ]
  },
  {
   "cell_type": "code",
   "execution_count": 2,
   "metadata": {},
   "outputs": [
    {
     "name": "stdout",
     "output_type": "stream",
     "text": [
      "500\n",
      "500\n",
      "1000\n"
     ]
    }
   ],
   "source": [
    "fileObj = open('sentiment_labelled_sentences/yelp_labelled.txt', 'rt')\n",
    "lines = fileObj.readlines()\n",
    "fileObj.close()\n",
    "\n",
    "positiveCount = 0\n",
    "negativeCount = 0\n",
    "\n",
    "for line in lines:\n",
    "    lineArray = line.split('\\t')\n",
    "    score = lineArray[1].strip('\\n')\n",
    "    \n",
    "    if score == '1':\n",
    "        positiveCount += 1\n",
    "    else:\n",
    "        negativeCount += 1\n",
    "\n",
    "print (positiveCount)\n",
    "print (negativeCount)\n",
    "print (len(lines))"
   ]
  },
  {
   "cell_type": "code",
   "execution_count": 3,
   "metadata": {},
   "outputs": [
    {
     "name": "stdout",
     "output_type": "stream",
     "text": [
      "The amount of positive sentences is: 497\n",
      "The amount of negative sentences is: 498\n",
      "The amount of missing records is: 5\n",
      "Total: 1000\n"
     ]
    }
   ],
   "source": [
    "fileObj = open('sentiment_labelled_sentences/imdb_labelled_missing_value.txt', 'rt')\n",
    "lines = fileObj.readlines()\n",
    "fileObj.close()\n",
    "\n",
    "positiveCount = 0\n",
    "negativeCount = 0\n",
    "missingValueCount = 0\n",
    "\n",
    "for line in lines:\n",
    "    lineArray = line.split('\\t')\n",
    "    score = lineArray[1].strip('\\n')\n",
    "    \n",
    "    if score == '1':\n",
    "        positiveCount += 1\n",
    "    elif score == '0':\n",
    "        negativeCount += 1\n",
    "    else:\n",
    "        missingValueCount += 1\n",
    "\n",
    "print ('The amount of positive sentences is:', positiveCount)\n",
    "print ('The amount of negative sentences is:', negativeCount)\n",
    "print ('The amount of missing records is:', missingValueCount)\n",
    "print ('Total:', len(lines))"
   ]
  }
 ],
 "metadata": {
  "kernelspec": {
   "display_name": "Python 3",
   "language": "python",
   "name": "python3"
  },
  "language_info": {
   "codemirror_mode": {
    "name": "ipython",
    "version": 3
   },
   "file_extension": ".py",
   "mimetype": "text/x-python",
   "name": "python",
   "nbconvert_exporter": "python",
   "pygments_lexer": "ipython3",
   "version": "3.6.2"
  }
 },
 "nbformat": 4,
 "nbformat_minor": 2
}
